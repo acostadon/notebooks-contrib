{
 "cells": [
  {
   "cell_type": "markdown",
   "metadata": {},
   "source": [
    "# Intro to RAPIDS using the New York City Yellow Taxi Data \n",
    "light on Data Science, heavy on comparisons.\n",
    "\n",
    "This notebook is for the The Toronto Machine Learning Summit, Nov 16 -29, 2020\n",
    "\n",
    "![TMLS](./img/TMLS.png)"
   ]
  },
  {
   "cell_type": "markdown",
   "metadata": {},
   "source": [
    "This notebook includes\n",
    "\n",
    "* cudf - for basic ETL and some __statistical analysis__ \n",
    "* cuml - for __machine learning__\n",
    "* cugraph - for some __graph analysis__\n",
    "* cuxfilter - for __visualization__\n"
   ]
  },
  {
   "cell_type": "markdown",
   "metadata": {},
   "source": [
    "----\n",
    "# Setup"
   ]
  },
  {
   "cell_type": "code",
   "execution_count": 1,
   "metadata": {},
   "outputs": [],
   "source": [
    "# load the libraries\n",
    "import cudf\n",
    "\n",
    "import numpy as np\n",
    "import pandas as pd\n",
    "import math\n",
    "\n",
    "import os\n",
    "import gc\n",
    "\n",
    "from collections import OrderedDict\n",
    "import argparse\n",
    "import datetime\n",
    "import time"
   ]
  },
  {
   "cell_type": "code",
   "execution_count": 2,
   "metadata": {},
   "outputs": [],
   "source": [
    "try: \n",
    "    import tqdm\n",
    "except ModuleNotFoundError:\n",
    "    os.system('pip install tqdm')\n",
    "    import tqdm"
   ]
  },
  {
   "cell_type": "code",
   "execution_count": 3,
   "metadata": {},
   "outputs": [],
   "source": [
    "# Let's use Unified Memory (aka managed memory) so that we try and avoid OOM errors \n",
    "# start by importing the RAPIDS Memory Manager and then reinitializing with managed memory turn on\n",
    "import rmm\n",
    "\n",
    "rmm.reinitialize(   \n",
    "    managed_memory=True,        # Use managed memory, this allows for oversubscription of the GPU\n",
    "    pool_allocator=False,       # default is False\n",
    "    devices=0,                  # GPU device IDs to register. By default, registers only GPU 0.\n",
    ")"
   ]
  },
  {
   "cell_type": "markdown",
   "metadata": {},
   "source": [
    "## Download the data"
   ]
  },
  {
   "cell_type": "code",
   "execution_count": 4,
   "metadata": {},
   "outputs": [],
   "source": [
    "top_dir = \"./\"\n",
    "data_dir = \"./nyctaxi\""
   ]
  },
  {
   "cell_type": "code",
   "execution_count": 5,
   "metadata": {},
   "outputs": [],
   "source": [
    "# Download Taxi data\n",
    "\n",
    "if os.path.exists(data_dir) == False:\n",
    "    import nyctaxi_data\n",
    "\n",
    "    print(\"downloading data\")\n",
    "    nyctaxi_data.download_nyctaxi_data([\"2016\"], top_dir)\n",
    "    "
   ]
  },
  {
   "cell_type": "markdown",
   "metadata": {},
   "source": [
    "----\n",
    "\n",
    "# cuDF - Accelerated Data Frame "
   ]
  },
  {
   "cell_type": "code",
   "execution_count": 6,
   "metadata": {},
   "outputs": [],
   "source": [
    "# get a list of files\n",
    "data_path = top_dir + \"nyctaxi/2016\"\n",
    "\n",
    "files = []\n",
    "\n",
    "for f in sorted(os.listdir(data_path)):\n",
    "    if f[0:6] != 'yellow':\n",
    "        continue\n",
    "        \n",
    "    fname = os.path.join(data_path, f)\n",
    "            \n",
    "    files.append(fname)\n"
   ]
  },
  {
   "cell_type": "code",
   "execution_count": 7,
   "metadata": {},
   "outputs": [
    {
     "data": {
      "text/plain": [
       "['./nyctaxi/2016/yellow_tripdata_2016-01.csv',\n",
       " './nyctaxi/2016/yellow_tripdata_2016-02.csv',\n",
       " './nyctaxi/2016/yellow_tripdata_2016-03.csv',\n",
       " './nyctaxi/2016/yellow_tripdata_2016-04.csv',\n",
       " './nyctaxi/2016/yellow_tripdata_2016-05.csv',\n",
       " './nyctaxi/2016/yellow_tripdata_2016-06.csv']"
      ]
     },
     "execution_count": 7,
     "metadata": {},
     "output_type": "execute_result"
    }
   ],
   "source": [
    "files"
   ]
  },
  {
   "cell_type": "code",
   "execution_count": 8,
   "metadata": {},
   "outputs": [
    {
     "name": "stdout",
     "output_type": "stream",
     "text": [
      "11G\t./nyctaxi/2016\n"
     ]
    }
   ],
   "source": [
    "!du -sh $data_path"
   ]
  },
  {
   "cell_type": "markdown",
   "metadata": {},
   "source": [
    "## Loading data performance test"
   ]
  },
  {
   "cell_type": "code",
   "execution_count": 9,
   "metadata": {},
   "outputs": [],
   "source": [
    "def read_pandas(f):\n",
    "    start_t = time.time()\n",
    "    df = pd.read_csv(f)\n",
    "    end_t = time.time() - start_t\n",
    "\n",
    "    return df, end_t"
   ]
  },
  {
   "cell_type": "code",
   "execution_count": 10,
   "metadata": {},
   "outputs": [],
   "source": [
    "def read_cudf(f):\n",
    "    start_t = time.time()\n",
    "    df = cudf.read_csv(f)\n",
    "    end_t = time.time() - start_t\n",
    "\n",
    "    return df, end_t"
   ]
  },
  {
   "cell_type": "code",
   "execution_count": 11,
   "metadata": {},
   "outputs": [],
   "source": [
    "_ = read_pandas(files[0])"
   ]
  },
  {
   "cell_type": "code",
   "execution_count": 12,
   "metadata": {},
   "outputs": [
    {
     "name": "stdout",
     "output_type": "stream",
     "text": [
      "\treading ./nyctaxi/2016/yellow_tripdata_2016-01.csv ... in time of 13.851531267166138 seconds\n",
      "\treading ./nyctaxi/2016/yellow_tripdata_2016-02.csv ... in time of 15.713322639465332 seconds\n",
      "\treading ./nyctaxi/2016/yellow_tripdata_2016-03.csv ... in time of 16.83453917503357 seconds\n",
      "\treading ./nyctaxi/2016/yellow_tripdata_2016-04.csv ... in time of 16.324753522872925 seconds\n",
      "\treading ./nyctaxi/2016/yellow_tripdata_2016-05.csv ... in time of 16.308149099349976 seconds\n",
      "\treading ./nyctaxi/2016/yellow_tripdata_2016-06.csv ... in time of 15.15955662727356 seconds\n",
      "loaded 69,406,520 records in 99.821654  seconds\n"
     ]
    }
   ],
   "source": [
    "# Load data with Pandas\n",
    "\n",
    "data = []\n",
    "\n",
    "start_t = time.time()\n",
    "\n",
    "for f in files:\n",
    "    print(\"\\treading \" + f, end = '')\n",
    "    df, t = read_pandas(f)\n",
    "    print(\" ... in time of \" + str(t) + \" seconds\")\n",
    "    data.append(df)\n",
    "  \n",
    "taxi_pdf = pd.concat(data)\n",
    "\n",
    "end_t = time.time()\n",
    "\n",
    "print(f\"loaded {len(taxi_pdf):,} records in {(end_t - start_t):2f}  seconds\")\n",
    "\n",
    "del data"
   ]
  },
  {
   "cell_type": "code",
   "execution_count": 13,
   "metadata": {},
   "outputs": [
    {
     "name": "stdout",
     "output_type": "stream",
     "text": [
      "\treading ./nyctaxi/2016/yellow_tripdata_2016-01.csv ... in time of 1.5723598003387451 seconds\n",
      "\treading ./nyctaxi/2016/yellow_tripdata_2016-02.csv ... in time of 0.8914315700531006 seconds\n",
      "\treading ./nyctaxi/2016/yellow_tripdata_2016-03.csv ... in time of 0.9603316783905029 seconds\n",
      "\treading ./nyctaxi/2016/yellow_tripdata_2016-04.csv ... in time of 0.9254343509674072 seconds\n",
      "\treading ./nyctaxi/2016/yellow_tripdata_2016-05.csv ... in time of 0.9160947799682617 seconds\n",
      "\treading ./nyctaxi/2016/yellow_tripdata_2016-06.csv ... in time of 0.8775439262390137 seconds\n",
      "loaded 69,406,520 records in 7.204489  seconds\n"
     ]
    }
   ],
   "source": [
    "# Load data with RAPIDS cuDF\n",
    "\n",
    "data = []\n",
    "\n",
    "start_t = time.time()\n",
    "\n",
    "for f in files:\n",
    "    print(\"\\treading \" + f, end = '')\n",
    "    df, t = read_cudf(f)\n",
    "    print(\" ... in time of \" + str(t)+ \" seconds\")\n",
    "    data.append(df)\n",
    "\n",
    "taxi_gdf = cudf.concat(data)\n",
    "\n",
    "end_t = time.time()\n",
    "\n",
    "print(f\"loaded {len(taxi_gdf):,} records in {(end_t - start_t):2f}  seconds\")\n",
    "\n",
    "del data"
   ]
  },
  {
   "cell_type": "code",
   "execution_count": null,
   "metadata": {},
   "outputs": [],
   "source": []
  },
  {
   "cell_type": "code",
   "execution_count": 14,
   "metadata": {},
   "outputs": [
    {
     "data": {
      "text/html": [
       "<div>\n",
       "<style scoped>\n",
       "    .dataframe tbody tr th:only-of-type {\n",
       "        vertical-align: middle;\n",
       "    }\n",
       "\n",
       "    .dataframe tbody tr th {\n",
       "        vertical-align: top;\n",
       "    }\n",
       "\n",
       "    .dataframe thead th {\n",
       "        text-align: right;\n",
       "    }\n",
       "</style>\n",
       "<table border=\"1\" class=\"dataframe\">\n",
       "  <thead>\n",
       "    <tr style=\"text-align: right;\">\n",
       "      <th></th>\n",
       "      <th>VendorID</th>\n",
       "      <th>tpep_pickup_datetime</th>\n",
       "      <th>tpep_dropoff_datetime</th>\n",
       "      <th>passenger_count</th>\n",
       "      <th>trip_distance</th>\n",
       "      <th>pickup_longitude</th>\n",
       "      <th>pickup_latitude</th>\n",
       "      <th>RatecodeID</th>\n",
       "      <th>store_and_fwd_flag</th>\n",
       "      <th>dropoff_longitude</th>\n",
       "      <th>dropoff_latitude</th>\n",
       "      <th>payment_type</th>\n",
       "      <th>fare_amount</th>\n",
       "      <th>extra</th>\n",
       "      <th>mta_tax</th>\n",
       "      <th>tip_amount</th>\n",
       "      <th>tolls_amount</th>\n",
       "      <th>improvement_surcharge</th>\n",
       "      <th>total_amount</th>\n",
       "    </tr>\n",
       "  </thead>\n",
       "  <tbody>\n",
       "    <tr>\n",
       "      <th>0</th>\n",
       "      <td>2</td>\n",
       "      <td>2016-01-01 00:00:00</td>\n",
       "      <td>2016-01-01 00:00:00</td>\n",
       "      <td>2</td>\n",
       "      <td>1.10</td>\n",
       "      <td>-73.990372</td>\n",
       "      <td>40.734695</td>\n",
       "      <td>1</td>\n",
       "      <td>N</td>\n",
       "      <td>-73.981842</td>\n",
       "      <td>40.732407</td>\n",
       "      <td>2</td>\n",
       "      <td>7.5</td>\n",
       "      <td>0.5</td>\n",
       "      <td>0.5</td>\n",
       "      <td>0.0</td>\n",
       "      <td>0.0</td>\n",
       "      <td>0.3</td>\n",
       "      <td>8.8</td>\n",
       "    </tr>\n",
       "    <tr>\n",
       "      <th>1</th>\n",
       "      <td>2</td>\n",
       "      <td>2016-01-01 00:00:00</td>\n",
       "      <td>2016-01-01 00:00:00</td>\n",
       "      <td>5</td>\n",
       "      <td>4.90</td>\n",
       "      <td>-73.980782</td>\n",
       "      <td>40.729912</td>\n",
       "      <td>1</td>\n",
       "      <td>N</td>\n",
       "      <td>-73.944473</td>\n",
       "      <td>40.716679</td>\n",
       "      <td>1</td>\n",
       "      <td>18.0</td>\n",
       "      <td>0.5</td>\n",
       "      <td>0.5</td>\n",
       "      <td>0.0</td>\n",
       "      <td>0.0</td>\n",
       "      <td>0.3</td>\n",
       "      <td>19.3</td>\n",
       "    </tr>\n",
       "    <tr>\n",
       "      <th>2</th>\n",
       "      <td>2</td>\n",
       "      <td>2016-01-01 00:00:00</td>\n",
       "      <td>2016-01-01 00:00:00</td>\n",
       "      <td>1</td>\n",
       "      <td>10.54</td>\n",
       "      <td>-73.984550</td>\n",
       "      <td>40.679565</td>\n",
       "      <td>1</td>\n",
       "      <td>N</td>\n",
       "      <td>-73.950272</td>\n",
       "      <td>40.788925</td>\n",
       "      <td>1</td>\n",
       "      <td>33.0</td>\n",
       "      <td>0.5</td>\n",
       "      <td>0.5</td>\n",
       "      <td>0.0</td>\n",
       "      <td>0.0</td>\n",
       "      <td>0.3</td>\n",
       "      <td>34.3</td>\n",
       "    </tr>\n",
       "    <tr>\n",
       "      <th>3</th>\n",
       "      <td>2</td>\n",
       "      <td>2016-01-01 00:00:00</td>\n",
       "      <td>2016-01-01 00:00:00</td>\n",
       "      <td>1</td>\n",
       "      <td>4.75</td>\n",
       "      <td>-73.993469</td>\n",
       "      <td>40.718990</td>\n",
       "      <td>1</td>\n",
       "      <td>N</td>\n",
       "      <td>-73.962242</td>\n",
       "      <td>40.657333</td>\n",
       "      <td>2</td>\n",
       "      <td>16.5</td>\n",
       "      <td>0.0</td>\n",
       "      <td>0.5</td>\n",
       "      <td>0.0</td>\n",
       "      <td>0.0</td>\n",
       "      <td>0.3</td>\n",
       "      <td>17.3</td>\n",
       "    </tr>\n",
       "    <tr>\n",
       "      <th>4</th>\n",
       "      <td>2</td>\n",
       "      <td>2016-01-01 00:00:00</td>\n",
       "      <td>2016-01-01 00:00:00</td>\n",
       "      <td>3</td>\n",
       "      <td>1.76</td>\n",
       "      <td>-73.960625</td>\n",
       "      <td>40.781330</td>\n",
       "      <td>1</td>\n",
       "      <td>N</td>\n",
       "      <td>-73.977264</td>\n",
       "      <td>40.758514</td>\n",
       "      <td>2</td>\n",
       "      <td>8.0</td>\n",
       "      <td>0.0</td>\n",
       "      <td>0.5</td>\n",
       "      <td>0.0</td>\n",
       "      <td>0.0</td>\n",
       "      <td>0.3</td>\n",
       "      <td>8.8</td>\n",
       "    </tr>\n",
       "  </tbody>\n",
       "</table>\n",
       "</div>"
      ],
      "text/plain": [
       "   VendorID tpep_pickup_datetime tpep_dropoff_datetime  passenger_count  \\\n",
       "0         2  2016-01-01 00:00:00   2016-01-01 00:00:00                2   \n",
       "1         2  2016-01-01 00:00:00   2016-01-01 00:00:00                5   \n",
       "2         2  2016-01-01 00:00:00   2016-01-01 00:00:00                1   \n",
       "3         2  2016-01-01 00:00:00   2016-01-01 00:00:00                1   \n",
       "4         2  2016-01-01 00:00:00   2016-01-01 00:00:00                3   \n",
       "\n",
       "   trip_distance  pickup_longitude  pickup_latitude  RatecodeID  \\\n",
       "0           1.10        -73.990372        40.734695           1   \n",
       "1           4.90        -73.980782        40.729912           1   \n",
       "2          10.54        -73.984550        40.679565           1   \n",
       "3           4.75        -73.993469        40.718990           1   \n",
       "4           1.76        -73.960625        40.781330           1   \n",
       "\n",
       "  store_and_fwd_flag  dropoff_longitude  dropoff_latitude  payment_type  \\\n",
       "0                  N         -73.981842         40.732407             2   \n",
       "1                  N         -73.944473         40.716679             1   \n",
       "2                  N         -73.950272         40.788925             1   \n",
       "3                  N         -73.962242         40.657333             2   \n",
       "4                  N         -73.977264         40.758514             2   \n",
       "\n",
       "   fare_amount  extra  mta_tax  tip_amount  tolls_amount  \\\n",
       "0          7.5    0.5      0.5         0.0           0.0   \n",
       "1         18.0    0.5      0.5         0.0           0.0   \n",
       "2         33.0    0.5      0.5         0.0           0.0   \n",
       "3         16.5    0.0      0.5         0.0           0.0   \n",
       "4          8.0    0.0      0.5         0.0           0.0   \n",
       "\n",
       "   improvement_surcharge  total_amount  \n",
       "0                    0.3           8.8  \n",
       "1                    0.3          19.3  \n",
       "2                    0.3          34.3  \n",
       "3                    0.3          17.3  \n",
       "4                    0.3           8.8  "
      ]
     },
     "execution_count": 14,
     "metadata": {},
     "output_type": "execute_result"
    }
   ],
   "source": [
    "taxi_gdf.head(5)"
   ]
  },
  {
   "cell_type": "markdown",
   "metadata": {},
   "source": [
    "## Sort Comparisons - Single Field"
   ]
  },
  {
   "cell_type": "code",
   "execution_count": 15,
   "metadata": {},
   "outputs": [
    {
     "name": "stdout",
     "output_type": "stream",
     "text": [
      "CPU times: user 32.9 s, sys: 1.32 s, total: 34.2 s\n",
      "Wall time: 34 s\n"
     ]
    }
   ],
   "source": [
    "%%time\n",
    "sp = taxi_pdf.sort_values(by='trip_distance',ascending=False)"
   ]
  },
  {
   "cell_type": "code",
   "execution_count": 16,
   "metadata": {},
   "outputs": [
    {
     "data": {
      "text/html": [
       "<div>\n",
       "<style scoped>\n",
       "    .dataframe tbody tr th:only-of-type {\n",
       "        vertical-align: middle;\n",
       "    }\n",
       "\n",
       "    .dataframe tbody tr th {\n",
       "        vertical-align: top;\n",
       "    }\n",
       "\n",
       "    .dataframe thead th {\n",
       "        text-align: right;\n",
       "    }\n",
       "</style>\n",
       "<table border=\"1\" class=\"dataframe\">\n",
       "  <thead>\n",
       "    <tr style=\"text-align: right;\">\n",
       "      <th></th>\n",
       "      <th>VendorID</th>\n",
       "      <th>tpep_pickup_datetime</th>\n",
       "      <th>tpep_dropoff_datetime</th>\n",
       "      <th>passenger_count</th>\n",
       "      <th>trip_distance</th>\n",
       "      <th>pickup_longitude</th>\n",
       "      <th>pickup_latitude</th>\n",
       "      <th>RatecodeID</th>\n",
       "      <th>store_and_fwd_flag</th>\n",
       "      <th>dropoff_longitude</th>\n",
       "      <th>dropoff_latitude</th>\n",
       "      <th>payment_type</th>\n",
       "      <th>fare_amount</th>\n",
       "      <th>extra</th>\n",
       "      <th>mta_tax</th>\n",
       "      <th>tip_amount</th>\n",
       "      <th>tolls_amount</th>\n",
       "      <th>improvement_surcharge</th>\n",
       "      <th>total_amount</th>\n",
       "    </tr>\n",
       "  </thead>\n",
       "  <tbody>\n",
       "    <tr>\n",
       "      <th>8340109</th>\n",
       "      <td>1</td>\n",
       "      <td>2016-03-07 19:57:50</td>\n",
       "      <td>2016-03-07 20:16:21</td>\n",
       "      <td>1</td>\n",
       "      <td>19072628.8</td>\n",
       "      <td>-73.995796</td>\n",
       "      <td>40.761204</td>\n",
       "      <td>1</td>\n",
       "      <td>Y</td>\n",
       "      <td>-73.995789</td>\n",
       "      <td>40.761208</td>\n",
       "      <td>2</td>\n",
       "      <td>2.5</td>\n",
       "      <td>1.0</td>\n",
       "      <td>0.5</td>\n",
       "      <td>0.00</td>\n",
       "      <td>0.0</td>\n",
       "      <td>0.3</td>\n",
       "      <td>4.30</td>\n",
       "    </tr>\n",
       "    <tr>\n",
       "      <th>9860101</th>\n",
       "      <td>1</td>\n",
       "      <td>2016-05-26 00:00:48</td>\n",
       "      <td>2016-05-26 00:13:46</td>\n",
       "      <td>1</td>\n",
       "      <td>12000004.5</td>\n",
       "      <td>-73.950768</td>\n",
       "      <td>40.711014</td>\n",
       "      <td>1</td>\n",
       "      <td>N</td>\n",
       "      <td>-73.999924</td>\n",
       "      <td>40.677673</td>\n",
       "      <td>1</td>\n",
       "      <td>17.5</td>\n",
       "      <td>0.5</td>\n",
       "      <td>0.5</td>\n",
       "      <td>4.00</td>\n",
       "      <td>0.0</td>\n",
       "      <td>0.3</td>\n",
       "      <td>22.80</td>\n",
       "    </tr>\n",
       "    <tr>\n",
       "      <th>10662053</th>\n",
       "      <td>1</td>\n",
       "      <td>2016-05-28 04:53:05</td>\n",
       "      <td>2016-05-28 05:13:04</td>\n",
       "      <td>1</td>\n",
       "      <td>12000003.9</td>\n",
       "      <td>-73.990784</td>\n",
       "      <td>40.750755</td>\n",
       "      <td>1</td>\n",
       "      <td>N</td>\n",
       "      <td>-73.959198</td>\n",
       "      <td>40.688946</td>\n",
       "      <td>1</td>\n",
       "      <td>20.5</td>\n",
       "      <td>0.5</td>\n",
       "      <td>0.5</td>\n",
       "      <td>5.45</td>\n",
       "      <td>0.0</td>\n",
       "      <td>0.3</td>\n",
       "      <td>27.25</td>\n",
       "    </tr>\n",
       "    <tr>\n",
       "      <th>3963837</th>\n",
       "      <td>1</td>\n",
       "      <td>2016-02-13 09:20:43</td>\n",
       "      <td>2016-02-13 09:22:00</td>\n",
       "      <td>3</td>\n",
       "      <td>11658534.3</td>\n",
       "      <td>-73.945442</td>\n",
       "      <td>40.751583</td>\n",
       "      <td>1</td>\n",
       "      <td>N</td>\n",
       "      <td>-73.945442</td>\n",
       "      <td>40.751583</td>\n",
       "      <td>2</td>\n",
       "      <td>2.5</td>\n",
       "      <td>0.0</td>\n",
       "      <td>0.5</td>\n",
       "      <td>0.00</td>\n",
       "      <td>0.0</td>\n",
       "      <td>0.3</td>\n",
       "      <td>3.30</td>\n",
       "    </tr>\n",
       "    <tr>\n",
       "      <th>10213817</th>\n",
       "      <td>1</td>\n",
       "      <td>2016-03-26 17:24:14</td>\n",
       "      <td>2016-03-26 17:33:23</td>\n",
       "      <td>2</td>\n",
       "      <td>8330083.2</td>\n",
       "      <td>-74.004929</td>\n",
       "      <td>40.730019</td>\n",
       "      <td>1</td>\n",
       "      <td>N</td>\n",
       "      <td>-73.994614</td>\n",
       "      <td>40.750378</td>\n",
       "      <td>2</td>\n",
       "      <td>9.0</td>\n",
       "      <td>0.0</td>\n",
       "      <td>0.5</td>\n",
       "      <td>0.00</td>\n",
       "      <td>0.0</td>\n",
       "      <td>0.3</td>\n",
       "      <td>9.80</td>\n",
       "    </tr>\n",
       "  </tbody>\n",
       "</table>\n",
       "</div>"
      ],
      "text/plain": [
       "          VendorID tpep_pickup_datetime tpep_dropoff_datetime  \\\n",
       "8340109          1  2016-03-07 19:57:50   2016-03-07 20:16:21   \n",
       "9860101          1  2016-05-26 00:00:48   2016-05-26 00:13:46   \n",
       "10662053         1  2016-05-28 04:53:05   2016-05-28 05:13:04   \n",
       "3963837          1  2016-02-13 09:20:43   2016-02-13 09:22:00   \n",
       "10213817         1  2016-03-26 17:24:14   2016-03-26 17:33:23   \n",
       "\n",
       "          passenger_count  trip_distance  pickup_longitude  pickup_latitude  \\\n",
       "8340109                 1     19072628.8        -73.995796        40.761204   \n",
       "9860101                 1     12000004.5        -73.950768        40.711014   \n",
       "10662053                1     12000003.9        -73.990784        40.750755   \n",
       "3963837                 3     11658534.3        -73.945442        40.751583   \n",
       "10213817                2      8330083.2        -74.004929        40.730019   \n",
       "\n",
       "          RatecodeID store_and_fwd_flag  dropoff_longitude  dropoff_latitude  \\\n",
       "8340109            1                  Y         -73.995789         40.761208   \n",
       "9860101            1                  N         -73.999924         40.677673   \n",
       "10662053           1                  N         -73.959198         40.688946   \n",
       "3963837            1                  N         -73.945442         40.751583   \n",
       "10213817           1                  N         -73.994614         40.750378   \n",
       "\n",
       "          payment_type  fare_amount  extra  mta_tax  tip_amount  tolls_amount  \\\n",
       "8340109              2          2.5    1.0      0.5        0.00           0.0   \n",
       "9860101              1         17.5    0.5      0.5        4.00           0.0   \n",
       "10662053             1         20.5    0.5      0.5        5.45           0.0   \n",
       "3963837              2          2.5    0.0      0.5        0.00           0.0   \n",
       "10213817             2          9.0    0.0      0.5        0.00           0.0   \n",
       "\n",
       "          improvement_surcharge  total_amount  \n",
       "8340109                     0.3          4.30  \n",
       "9860101                     0.3         22.80  \n",
       "10662053                    0.3         27.25  \n",
       "3963837                     0.3          3.30  \n",
       "10213817                    0.3          9.80  "
      ]
     },
     "execution_count": 16,
     "metadata": {},
     "output_type": "execute_result"
    }
   ],
   "source": [
    "sp.head(5)"
   ]
  },
  {
   "cell_type": "code",
   "execution_count": 17,
   "metadata": {},
   "outputs": [
    {
     "name": "stdout",
     "output_type": "stream",
     "text": [
      "CPU times: user 1.15 s, sys: 27.7 ms, total: 1.18 s\n",
      "Wall time: 1.19 s\n"
     ]
    }
   ],
   "source": [
    "%%time\n",
    "sg = taxi_gdf.sort_values(by='trip_distance',ascending=False)"
   ]
  },
  {
   "cell_type": "code",
   "execution_count": 18,
   "metadata": {},
   "outputs": [
    {
     "data": {
      "text/html": [
       "<div>\n",
       "<style scoped>\n",
       "    .dataframe tbody tr th:only-of-type {\n",
       "        vertical-align: middle;\n",
       "    }\n",
       "\n",
       "    .dataframe tbody tr th {\n",
       "        vertical-align: top;\n",
       "    }\n",
       "\n",
       "    .dataframe thead th {\n",
       "        text-align: right;\n",
       "    }\n",
       "</style>\n",
       "<table border=\"1\" class=\"dataframe\">\n",
       "  <thead>\n",
       "    <tr style=\"text-align: right;\">\n",
       "      <th></th>\n",
       "      <th>VendorID</th>\n",
       "      <th>tpep_pickup_datetime</th>\n",
       "      <th>tpep_dropoff_datetime</th>\n",
       "      <th>passenger_count</th>\n",
       "      <th>trip_distance</th>\n",
       "      <th>pickup_longitude</th>\n",
       "      <th>pickup_latitude</th>\n",
       "      <th>RatecodeID</th>\n",
       "      <th>store_and_fwd_flag</th>\n",
       "      <th>dropoff_longitude</th>\n",
       "      <th>dropoff_latitude</th>\n",
       "      <th>payment_type</th>\n",
       "      <th>fare_amount</th>\n",
       "      <th>extra</th>\n",
       "      <th>mta_tax</th>\n",
       "      <th>tip_amount</th>\n",
       "      <th>tolls_amount</th>\n",
       "      <th>improvement_surcharge</th>\n",
       "      <th>total_amount</th>\n",
       "    </tr>\n",
       "  </thead>\n",
       "  <tbody>\n",
       "    <tr>\n",
       "      <th>8340109</th>\n",
       "      <td>1</td>\n",
       "      <td>2016-03-07 19:57:50</td>\n",
       "      <td>2016-03-07 20:16:21</td>\n",
       "      <td>1</td>\n",
       "      <td>19072628.8</td>\n",
       "      <td>-73.995796</td>\n",
       "      <td>40.761204</td>\n",
       "      <td>1</td>\n",
       "      <td>Y</td>\n",
       "      <td>-73.995789</td>\n",
       "      <td>40.761208</td>\n",
       "      <td>2</td>\n",
       "      <td>2.5</td>\n",
       "      <td>1.0</td>\n",
       "      <td>0.5</td>\n",
       "      <td>0.00</td>\n",
       "      <td>0.0</td>\n",
       "      <td>0.3</td>\n",
       "      <td>4.30</td>\n",
       "    </tr>\n",
       "    <tr>\n",
       "      <th>9860101</th>\n",
       "      <td>1</td>\n",
       "      <td>2016-05-26 00:00:48</td>\n",
       "      <td>2016-05-26 00:13:46</td>\n",
       "      <td>1</td>\n",
       "      <td>12000004.5</td>\n",
       "      <td>-73.950768</td>\n",
       "      <td>40.711014</td>\n",
       "      <td>1</td>\n",
       "      <td>N</td>\n",
       "      <td>-73.999924</td>\n",
       "      <td>40.677673</td>\n",
       "      <td>1</td>\n",
       "      <td>17.5</td>\n",
       "      <td>0.5</td>\n",
       "      <td>0.5</td>\n",
       "      <td>4.00</td>\n",
       "      <td>0.0</td>\n",
       "      <td>0.3</td>\n",
       "      <td>22.80</td>\n",
       "    </tr>\n",
       "    <tr>\n",
       "      <th>10662053</th>\n",
       "      <td>1</td>\n",
       "      <td>2016-05-28 04:53:05</td>\n",
       "      <td>2016-05-28 05:13:04</td>\n",
       "      <td>1</td>\n",
       "      <td>12000003.9</td>\n",
       "      <td>-73.990784</td>\n",
       "      <td>40.750755</td>\n",
       "      <td>1</td>\n",
       "      <td>N</td>\n",
       "      <td>-73.959198</td>\n",
       "      <td>40.688946</td>\n",
       "      <td>1</td>\n",
       "      <td>20.5</td>\n",
       "      <td>0.5</td>\n",
       "      <td>0.5</td>\n",
       "      <td>5.45</td>\n",
       "      <td>0.0</td>\n",
       "      <td>0.3</td>\n",
       "      <td>27.25</td>\n",
       "    </tr>\n",
       "    <tr>\n",
       "      <th>3963837</th>\n",
       "      <td>1</td>\n",
       "      <td>2016-02-13 09:20:43</td>\n",
       "      <td>2016-02-13 09:22:00</td>\n",
       "      <td>3</td>\n",
       "      <td>11658534.3</td>\n",
       "      <td>-73.945442</td>\n",
       "      <td>40.751583</td>\n",
       "      <td>1</td>\n",
       "      <td>N</td>\n",
       "      <td>-73.945442</td>\n",
       "      <td>40.751583</td>\n",
       "      <td>2</td>\n",
       "      <td>2.5</td>\n",
       "      <td>0.0</td>\n",
       "      <td>0.5</td>\n",
       "      <td>0.00</td>\n",
       "      <td>0.0</td>\n",
       "      <td>0.3</td>\n",
       "      <td>3.30</td>\n",
       "    </tr>\n",
       "    <tr>\n",
       "      <th>10213817</th>\n",
       "      <td>1</td>\n",
       "      <td>2016-03-26 17:24:14</td>\n",
       "      <td>2016-03-26 17:33:23</td>\n",
       "      <td>2</td>\n",
       "      <td>8330083.2</td>\n",
       "      <td>-74.004929</td>\n",
       "      <td>40.730019</td>\n",
       "      <td>1</td>\n",
       "      <td>N</td>\n",
       "      <td>-73.994614</td>\n",
       "      <td>40.750378</td>\n",
       "      <td>2</td>\n",
       "      <td>9.0</td>\n",
       "      <td>0.0</td>\n",
       "      <td>0.5</td>\n",
       "      <td>0.00</td>\n",
       "      <td>0.0</td>\n",
       "      <td>0.3</td>\n",
       "      <td>9.80</td>\n",
       "    </tr>\n",
       "  </tbody>\n",
       "</table>\n",
       "</div>"
      ],
      "text/plain": [
       "          VendorID tpep_pickup_datetime tpep_dropoff_datetime  \\\n",
       "8340109          1  2016-03-07 19:57:50   2016-03-07 20:16:21   \n",
       "9860101          1  2016-05-26 00:00:48   2016-05-26 00:13:46   \n",
       "10662053         1  2016-05-28 04:53:05   2016-05-28 05:13:04   \n",
       "3963837          1  2016-02-13 09:20:43   2016-02-13 09:22:00   \n",
       "10213817         1  2016-03-26 17:24:14   2016-03-26 17:33:23   \n",
       "\n",
       "          passenger_count  trip_distance  pickup_longitude  pickup_latitude  \\\n",
       "8340109                 1     19072628.8        -73.995796        40.761204   \n",
       "9860101                 1     12000004.5        -73.950768        40.711014   \n",
       "10662053                1     12000003.9        -73.990784        40.750755   \n",
       "3963837                 3     11658534.3        -73.945442        40.751583   \n",
       "10213817                2      8330083.2        -74.004929        40.730019   \n",
       "\n",
       "          RatecodeID store_and_fwd_flag  dropoff_longitude  dropoff_latitude  \\\n",
       "8340109            1                  Y         -73.995789         40.761208   \n",
       "9860101            1                  N         -73.999924         40.677673   \n",
       "10662053           1                  N         -73.959198         40.688946   \n",
       "3963837            1                  N         -73.945442         40.751583   \n",
       "10213817           1                  N         -73.994614         40.750378   \n",
       "\n",
       "          payment_type  fare_amount  extra  mta_tax  tip_amount  tolls_amount  \\\n",
       "8340109              2          2.5    1.0      0.5        0.00           0.0   \n",
       "9860101              1         17.5    0.5      0.5        4.00           0.0   \n",
       "10662053             1         20.5    0.5      0.5        5.45           0.0   \n",
       "3963837              2          2.5    0.0      0.5        0.00           0.0   \n",
       "10213817             2          9.0    0.0      0.5        0.00           0.0   \n",
       "\n",
       "          improvement_surcharge  total_amount  \n",
       "8340109                     0.3          4.30  \n",
       "9860101                     0.3         22.80  \n",
       "10662053                    0.3         27.25  \n",
       "3963837                     0.3          3.30  \n",
       "10213817                    0.3          9.80  "
      ]
     },
     "execution_count": 18,
     "metadata": {},
     "output_type": "execute_result"
    }
   ],
   "source": [
    "sg.head(5)"
   ]
  },
  {
   "cell_type": "markdown",
   "metadata": {},
   "source": [
    "## Group By - Single Column "
   ]
  },
  {
   "cell_type": "code",
   "execution_count": 19,
   "metadata": {},
   "outputs": [
    {
     "name": "stdout",
     "output_type": "stream",
     "text": [
      "CPU times: user 20 s, sys: 268 ms, total: 20.2 s\n",
      "Wall time: 20.1 s\n"
     ]
    }
   ],
   "source": [
    "%%time\n",
    "gbp = taxi_pdf.groupby('passenger_count').count()"
   ]
  },
  {
   "cell_type": "code",
   "execution_count": 20,
   "metadata": {},
   "outputs": [
    {
     "data": {
      "text/html": [
       "<div>\n",
       "<style scoped>\n",
       "    .dataframe tbody tr th:only-of-type {\n",
       "        vertical-align: middle;\n",
       "    }\n",
       "\n",
       "    .dataframe tbody tr th {\n",
       "        vertical-align: top;\n",
       "    }\n",
       "\n",
       "    .dataframe thead th {\n",
       "        text-align: right;\n",
       "    }\n",
       "</style>\n",
       "<table border=\"1\" class=\"dataframe\">\n",
       "  <thead>\n",
       "    <tr style=\"text-align: right;\">\n",
       "      <th></th>\n",
       "      <th>VendorID</th>\n",
       "      <th>tpep_pickup_datetime</th>\n",
       "      <th>tpep_dropoff_datetime</th>\n",
       "      <th>trip_distance</th>\n",
       "      <th>pickup_longitude</th>\n",
       "      <th>pickup_latitude</th>\n",
       "      <th>RatecodeID</th>\n",
       "      <th>store_and_fwd_flag</th>\n",
       "      <th>dropoff_longitude</th>\n",
       "      <th>dropoff_latitude</th>\n",
       "      <th>payment_type</th>\n",
       "      <th>fare_amount</th>\n",
       "      <th>extra</th>\n",
       "      <th>mta_tax</th>\n",
       "      <th>tip_amount</th>\n",
       "      <th>tolls_amount</th>\n",
       "      <th>improvement_surcharge</th>\n",
       "      <th>total_amount</th>\n",
       "    </tr>\n",
       "    <tr>\n",
       "      <th>passenger_count</th>\n",
       "      <th></th>\n",
       "      <th></th>\n",
       "      <th></th>\n",
       "      <th></th>\n",
       "      <th></th>\n",
       "      <th></th>\n",
       "      <th></th>\n",
       "      <th></th>\n",
       "      <th></th>\n",
       "      <th></th>\n",
       "      <th></th>\n",
       "      <th></th>\n",
       "      <th></th>\n",
       "      <th></th>\n",
       "      <th></th>\n",
       "      <th></th>\n",
       "      <th></th>\n",
       "      <th></th>\n",
       "    </tr>\n",
       "  </thead>\n",
       "  <tbody>\n",
       "    <tr>\n",
       "      <th>0</th>\n",
       "      <td>10897</td>\n",
       "      <td>10897</td>\n",
       "      <td>10897</td>\n",
       "      <td>10897</td>\n",
       "      <td>10897</td>\n",
       "      <td>10897</td>\n",
       "      <td>10897</td>\n",
       "      <td>10897</td>\n",
       "      <td>10897</td>\n",
       "      <td>10897</td>\n",
       "      <td>10897</td>\n",
       "      <td>10897</td>\n",
       "      <td>10897</td>\n",
       "      <td>10897</td>\n",
       "      <td>10897</td>\n",
       "      <td>10897</td>\n",
       "      <td>10897</td>\n",
       "      <td>10897</td>\n",
       "    </tr>\n",
       "    <tr>\n",
       "      <th>1</th>\n",
       "      <td>49251874</td>\n",
       "      <td>49251874</td>\n",
       "      <td>49251874</td>\n",
       "      <td>49251874</td>\n",
       "      <td>49251874</td>\n",
       "      <td>49251874</td>\n",
       "      <td>49251874</td>\n",
       "      <td>49251874</td>\n",
       "      <td>49251874</td>\n",
       "      <td>49251874</td>\n",
       "      <td>49251874</td>\n",
       "      <td>49251874</td>\n",
       "      <td>49251874</td>\n",
       "      <td>49251874</td>\n",
       "      <td>49251874</td>\n",
       "      <td>49251874</td>\n",
       "      <td>49251874</td>\n",
       "      <td>49251874</td>\n",
       "    </tr>\n",
       "    <tr>\n",
       "      <th>2</th>\n",
       "      <td>9981593</td>\n",
       "      <td>9981593</td>\n",
       "      <td>9981593</td>\n",
       "      <td>9981593</td>\n",
       "      <td>9981593</td>\n",
       "      <td>9981593</td>\n",
       "      <td>9981593</td>\n",
       "      <td>9981593</td>\n",
       "      <td>9981593</td>\n",
       "      <td>9981593</td>\n",
       "      <td>9981593</td>\n",
       "      <td>9981593</td>\n",
       "      <td>9981593</td>\n",
       "      <td>9981593</td>\n",
       "      <td>9981593</td>\n",
       "      <td>9981593</td>\n",
       "      <td>9981593</td>\n",
       "      <td>9981593</td>\n",
       "    </tr>\n",
       "    <tr>\n",
       "      <th>3</th>\n",
       "      <td>2846266</td>\n",
       "      <td>2846266</td>\n",
       "      <td>2846266</td>\n",
       "      <td>2846266</td>\n",
       "      <td>2846266</td>\n",
       "      <td>2846266</td>\n",
       "      <td>2846266</td>\n",
       "      <td>2846266</td>\n",
       "      <td>2846266</td>\n",
       "      <td>2846266</td>\n",
       "      <td>2846266</td>\n",
       "      <td>2846266</td>\n",
       "      <td>2846266</td>\n",
       "      <td>2846266</td>\n",
       "      <td>2846266</td>\n",
       "      <td>2846266</td>\n",
       "      <td>2846266</td>\n",
       "      <td>2846266</td>\n",
       "    </tr>\n",
       "    <tr>\n",
       "      <th>4</th>\n",
       "      <td>1350730</td>\n",
       "      <td>1350730</td>\n",
       "      <td>1350730</td>\n",
       "      <td>1350730</td>\n",
       "      <td>1350730</td>\n",
       "      <td>1350730</td>\n",
       "      <td>1350730</td>\n",
       "      <td>1350730</td>\n",
       "      <td>1350730</td>\n",
       "      <td>1350730</td>\n",
       "      <td>1350730</td>\n",
       "      <td>1350730</td>\n",
       "      <td>1350730</td>\n",
       "      <td>1350730</td>\n",
       "      <td>1350730</td>\n",
       "      <td>1350730</td>\n",
       "      <td>1350730</td>\n",
       "      <td>1350730</td>\n",
       "    </tr>\n",
       "  </tbody>\n",
       "</table>\n",
       "</div>"
      ],
      "text/plain": [
       "                 VendorID  tpep_pickup_datetime  tpep_dropoff_datetime  \\\n",
       "passenger_count                                                          \n",
       "0                   10897                 10897                  10897   \n",
       "1                49251874              49251874               49251874   \n",
       "2                 9981593               9981593                9981593   \n",
       "3                 2846266               2846266                2846266   \n",
       "4                 1350730               1350730                1350730   \n",
       "\n",
       "                 trip_distance  pickup_longitude  pickup_latitude  RatecodeID  \\\n",
       "passenger_count                                                                 \n",
       "0                        10897             10897            10897       10897   \n",
       "1                     49251874          49251874         49251874    49251874   \n",
       "2                      9981593           9981593          9981593     9981593   \n",
       "3                      2846266           2846266          2846266     2846266   \n",
       "4                      1350730           1350730          1350730     1350730   \n",
       "\n",
       "                 store_and_fwd_flag  dropoff_longitude  dropoff_latitude  \\\n",
       "passenger_count                                                            \n",
       "0                             10897              10897             10897   \n",
       "1                          49251874           49251874          49251874   \n",
       "2                           9981593            9981593           9981593   \n",
       "3                           2846266            2846266           2846266   \n",
       "4                           1350730            1350730           1350730   \n",
       "\n",
       "                 payment_type  fare_amount     extra   mta_tax  tip_amount  \\\n",
       "passenger_count                                                              \n",
       "0                       10897        10897     10897     10897       10897   \n",
       "1                    49251874     49251874  49251874  49251874    49251874   \n",
       "2                     9981593      9981593   9981593   9981593     9981593   \n",
       "3                     2846266      2846266   2846266   2846266     2846266   \n",
       "4                     1350730      1350730   1350730   1350730     1350730   \n",
       "\n",
       "                 tolls_amount  improvement_surcharge  total_amount  \n",
       "passenger_count                                                     \n",
       "0                       10897                  10897         10897  \n",
       "1                    49251874               49251874      49251874  \n",
       "2                     9981593                9981593       9981593  \n",
       "3                     2846266                2846266       2846266  \n",
       "4                     1350730                1350730       1350730  "
      ]
     },
     "execution_count": 20,
     "metadata": {},
     "output_type": "execute_result"
    }
   ],
   "source": [
    "gbp.head(5)"
   ]
  },
  {
   "cell_type": "code",
   "execution_count": 21,
   "metadata": {},
   "outputs": [
    {
     "name": "stdout",
     "output_type": "stream",
     "text": [
      "CPU times: user 482 ms, sys: 185 ms, total: 667 ms\n",
      "Wall time: 662 ms\n"
     ]
    }
   ],
   "source": [
    "%%time\n",
    "gbg = taxi_gdf.groupby('passenger_count').count()"
   ]
  },
  {
   "cell_type": "code",
   "execution_count": 22,
   "metadata": {},
   "outputs": [
    {
     "data": {
      "text/html": [
       "<div>\n",
       "<style scoped>\n",
       "    .dataframe tbody tr th:only-of-type {\n",
       "        vertical-align: middle;\n",
       "    }\n",
       "\n",
       "    .dataframe tbody tr th {\n",
       "        vertical-align: top;\n",
       "    }\n",
       "\n",
       "    .dataframe thead th {\n",
       "        text-align: right;\n",
       "    }\n",
       "</style>\n",
       "<table border=\"1\" class=\"dataframe\">\n",
       "  <thead>\n",
       "    <tr style=\"text-align: right;\">\n",
       "      <th></th>\n",
       "      <th>VendorID</th>\n",
       "      <th>tpep_pickup_datetime</th>\n",
       "      <th>tpep_dropoff_datetime</th>\n",
       "      <th>trip_distance</th>\n",
       "      <th>pickup_longitude</th>\n",
       "      <th>pickup_latitude</th>\n",
       "      <th>RatecodeID</th>\n",
       "      <th>store_and_fwd_flag</th>\n",
       "      <th>dropoff_longitude</th>\n",
       "      <th>dropoff_latitude</th>\n",
       "      <th>payment_type</th>\n",
       "      <th>fare_amount</th>\n",
       "      <th>extra</th>\n",
       "      <th>mta_tax</th>\n",
       "      <th>tip_amount</th>\n",
       "      <th>tolls_amount</th>\n",
       "      <th>improvement_surcharge</th>\n",
       "      <th>total_amount</th>\n",
       "    </tr>\n",
       "    <tr>\n",
       "      <th>passenger_count</th>\n",
       "      <th></th>\n",
       "      <th></th>\n",
       "      <th></th>\n",
       "      <th></th>\n",
       "      <th></th>\n",
       "      <th></th>\n",
       "      <th></th>\n",
       "      <th></th>\n",
       "      <th></th>\n",
       "      <th></th>\n",
       "      <th></th>\n",
       "      <th></th>\n",
       "      <th></th>\n",
       "      <th></th>\n",
       "      <th></th>\n",
       "      <th></th>\n",
       "      <th></th>\n",
       "      <th></th>\n",
       "    </tr>\n",
       "  </thead>\n",
       "  <tbody>\n",
       "    <tr>\n",
       "      <th>8</th>\n",
       "      <td>141</td>\n",
       "      <td>141</td>\n",
       "      <td>141</td>\n",
       "      <td>141</td>\n",
       "      <td>141</td>\n",
       "      <td>141</td>\n",
       "      <td>141</td>\n",
       "      <td>141</td>\n",
       "      <td>141</td>\n",
       "      <td>141</td>\n",
       "      <td>141</td>\n",
       "      <td>141</td>\n",
       "      <td>141</td>\n",
       "      <td>141</td>\n",
       "      <td>141</td>\n",
       "      <td>141</td>\n",
       "      <td>141</td>\n",
       "      <td>141</td>\n",
       "    </tr>\n",
       "    <tr>\n",
       "      <th>6</th>\n",
       "      <td>2277816</td>\n",
       "      <td>2277816</td>\n",
       "      <td>2277816</td>\n",
       "      <td>2277816</td>\n",
       "      <td>2277816</td>\n",
       "      <td>2277816</td>\n",
       "      <td>2277816</td>\n",
       "      <td>2277816</td>\n",
       "      <td>2277816</td>\n",
       "      <td>2277816</td>\n",
       "      <td>2277816</td>\n",
       "      <td>2277816</td>\n",
       "      <td>2277816</td>\n",
       "      <td>2277816</td>\n",
       "      <td>2277816</td>\n",
       "      <td>2277816</td>\n",
       "      <td>2277816</td>\n",
       "      <td>2277816</td>\n",
       "    </tr>\n",
       "    <tr>\n",
       "      <th>2</th>\n",
       "      <td>9981593</td>\n",
       "      <td>9981593</td>\n",
       "      <td>9981593</td>\n",
       "      <td>9981593</td>\n",
       "      <td>9981593</td>\n",
       "      <td>9981593</td>\n",
       "      <td>9981593</td>\n",
       "      <td>9981593</td>\n",
       "      <td>9981593</td>\n",
       "      <td>9981593</td>\n",
       "      <td>9981593</td>\n",
       "      <td>9981593</td>\n",
       "      <td>9981593</td>\n",
       "      <td>9981593</td>\n",
       "      <td>9981593</td>\n",
       "      <td>9981593</td>\n",
       "      <td>9981593</td>\n",
       "      <td>9981593</td>\n",
       "    </tr>\n",
       "    <tr>\n",
       "      <th>7</th>\n",
       "      <td>149</td>\n",
       "      <td>149</td>\n",
       "      <td>149</td>\n",
       "      <td>149</td>\n",
       "      <td>149</td>\n",
       "      <td>149</td>\n",
       "      <td>149</td>\n",
       "      <td>149</td>\n",
       "      <td>149</td>\n",
       "      <td>149</td>\n",
       "      <td>149</td>\n",
       "      <td>149</td>\n",
       "      <td>149</td>\n",
       "      <td>149</td>\n",
       "      <td>149</td>\n",
       "      <td>149</td>\n",
       "      <td>149</td>\n",
       "      <td>149</td>\n",
       "    </tr>\n",
       "    <tr>\n",
       "      <th>1</th>\n",
       "      <td>49251874</td>\n",
       "      <td>49251874</td>\n",
       "      <td>49251874</td>\n",
       "      <td>49251874</td>\n",
       "      <td>49251874</td>\n",
       "      <td>49251874</td>\n",
       "      <td>49251874</td>\n",
       "      <td>49251874</td>\n",
       "      <td>49251874</td>\n",
       "      <td>49251874</td>\n",
       "      <td>49251874</td>\n",
       "      <td>49251874</td>\n",
       "      <td>49251874</td>\n",
       "      <td>49251874</td>\n",
       "      <td>49251874</td>\n",
       "      <td>49251874</td>\n",
       "      <td>49251874</td>\n",
       "      <td>49251874</td>\n",
       "    </tr>\n",
       "  </tbody>\n",
       "</table>\n",
       "</div>"
      ],
      "text/plain": [
       "                 VendorID  tpep_pickup_datetime  tpep_dropoff_datetime  \\\n",
       "passenger_count                                                          \n",
       "8                     141                   141                    141   \n",
       "6                 2277816               2277816                2277816   \n",
       "2                 9981593               9981593                9981593   \n",
       "7                     149                   149                    149   \n",
       "1                49251874              49251874               49251874   \n",
       "\n",
       "                 trip_distance  pickup_longitude  pickup_latitude  RatecodeID  \\\n",
       "passenger_count                                                                 \n",
       "8                          141               141              141         141   \n",
       "6                      2277816           2277816          2277816     2277816   \n",
       "2                      9981593           9981593          9981593     9981593   \n",
       "7                          149               149              149         149   \n",
       "1                     49251874          49251874         49251874    49251874   \n",
       "\n",
       "                 store_and_fwd_flag  dropoff_longitude  dropoff_latitude  \\\n",
       "passenger_count                                                            \n",
       "8                               141                141               141   \n",
       "6                           2277816            2277816           2277816   \n",
       "2                           9981593            9981593           9981593   \n",
       "7                               149                149               149   \n",
       "1                          49251874           49251874          49251874   \n",
       "\n",
       "                 payment_type  fare_amount     extra   mta_tax  tip_amount  \\\n",
       "passenger_count                                                              \n",
       "8                         141          141       141       141         141   \n",
       "6                     2277816      2277816   2277816   2277816     2277816   \n",
       "2                     9981593      9981593   9981593   9981593     9981593   \n",
       "7                         149          149       149       149         149   \n",
       "1                    49251874     49251874  49251874  49251874    49251874   \n",
       "\n",
       "                 tolls_amount  improvement_surcharge  total_amount  \n",
       "passenger_count                                                     \n",
       "8                         141                    141           141  \n",
       "6                     2277816                2277816       2277816  \n",
       "2                     9981593                9981593       9981593  \n",
       "7                         149                    149           149  \n",
       "1                    49251874               49251874      49251874  "
      ]
     },
     "execution_count": 22,
     "metadata": {},
     "output_type": "execute_result"
    }
   ],
   "source": [
    "gbg.head(5)"
   ]
  },
  {
   "cell_type": "markdown",
   "metadata": {},
   "source": [
    "## Fun with Data"
   ]
  },
  {
   "cell_type": "code",
   "execution_count": 23,
   "metadata": {},
   "outputs": [
    {
     "name": "stdout",
     "output_type": "stream",
     "text": [
      "Max fare was $628,544.74\n",
      "CPU times: user 77.3 ms, sys: 130 µs, total: 77.4 ms\n",
      "Wall time: 76 ms\n"
     ]
    }
   ],
   "source": [
    "%%time\n",
    "print(f\"Max fare was ${taxi_pdf['fare_amount'].max():,}\")"
   ]
  },
  {
   "cell_type": "code",
   "execution_count": 24,
   "metadata": {},
   "outputs": [
    {
     "name": "stdout",
     "output_type": "stream",
     "text": [
      "Max fare was $628,544.74\n",
      "CPU times: user 12.1 ms, sys: 4.02 ms, total: 16.1 ms\n",
      "Wall time: 17.3 ms\n"
     ]
    }
   ],
   "source": [
    "%%time\n",
    "print(f\"Max fare was ${taxi_gdf['fare_amount'].max():,}\")"
   ]
  },
  {
   "cell_type": "code",
   "execution_count": null,
   "metadata": {},
   "outputs": [],
   "source": []
  },
  {
   "cell_type": "code",
   "execution_count": 25,
   "metadata": {},
   "outputs": [
    {
     "data": {
      "text/html": [
       "<div>\n",
       "<style scoped>\n",
       "    .dataframe tbody tr th:only-of-type {\n",
       "        vertical-align: middle;\n",
       "    }\n",
       "\n",
       "    .dataframe tbody tr th {\n",
       "        vertical-align: top;\n",
       "    }\n",
       "\n",
       "    .dataframe thead th {\n",
       "        text-align: right;\n",
       "    }\n",
       "</style>\n",
       "<table border=\"1\" class=\"dataframe\">\n",
       "  <thead>\n",
       "    <tr style=\"text-align: right;\">\n",
       "      <th></th>\n",
       "      <th>VendorID</th>\n",
       "      <th>tpep_pickup_datetime</th>\n",
       "      <th>tpep_dropoff_datetime</th>\n",
       "      <th>passenger_count</th>\n",
       "      <th>trip_distance</th>\n",
       "      <th>pickup_longitude</th>\n",
       "      <th>pickup_latitude</th>\n",
       "      <th>RatecodeID</th>\n",
       "      <th>store_and_fwd_flag</th>\n",
       "      <th>dropoff_longitude</th>\n",
       "      <th>dropoff_latitude</th>\n",
       "      <th>payment_type</th>\n",
       "      <th>fare_amount</th>\n",
       "      <th>extra</th>\n",
       "      <th>mta_tax</th>\n",
       "      <th>tip_amount</th>\n",
       "      <th>tolls_amount</th>\n",
       "      <th>improvement_surcharge</th>\n",
       "      <th>total_amount</th>\n",
       "    </tr>\n",
       "  </thead>\n",
       "  <tbody>\n",
       "    <tr>\n",
       "      <th>10199130</th>\n",
       "      <td>1</td>\n",
       "      <td>2016-06-30 09:21:03</td>\n",
       "      <td>2016-06-30 09:21:03</td>\n",
       "      <td>1</td>\n",
       "      <td>0.0</td>\n",
       "      <td>-73.872955</td>\n",
       "      <td>40.773994</td>\n",
       "      <td>1</td>\n",
       "      <td>N</td>\n",
       "      <td>0.0</td>\n",
       "      <td>0.0</td>\n",
       "      <td>2</td>\n",
       "      <td>628544.74</td>\n",
       "      <td>488.24</td>\n",
       "      <td>0.5</td>\n",
       "      <td>0.0</td>\n",
       "      <td>0.0</td>\n",
       "      <td>0.3</td>\n",
       "      <td>629033.78</td>\n",
       "    </tr>\n",
       "    <tr>\n",
       "      <th>10203011</th>\n",
       "      <td>1</td>\n",
       "      <td>2016-06-30 09:28:53</td>\n",
       "      <td>2016-06-30 09:28:53</td>\n",
       "      <td>1</td>\n",
       "      <td>0.0</td>\n",
       "      <td>-73.928604</td>\n",
       "      <td>40.787613</td>\n",
       "      <td>1</td>\n",
       "      <td>N</td>\n",
       "      <td>0.0</td>\n",
       "      <td>0.0</td>\n",
       "      <td>2</td>\n",
       "      <td>628544.74</td>\n",
       "      <td>488.24</td>\n",
       "      <td>0.5</td>\n",
       "      <td>0.0</td>\n",
       "      <td>0.0</td>\n",
       "      <td>0.3</td>\n",
       "      <td>629033.78</td>\n",
       "    </tr>\n",
       "  </tbody>\n",
       "</table>\n",
       "</div>"
      ],
      "text/plain": [
       "          VendorID tpep_pickup_datetime tpep_dropoff_datetime  \\\n",
       "10199130         1  2016-06-30 09:21:03   2016-06-30 09:21:03   \n",
       "10203011         1  2016-06-30 09:28:53   2016-06-30 09:28:53   \n",
       "\n",
       "          passenger_count  trip_distance  pickup_longitude  pickup_latitude  \\\n",
       "10199130                1            0.0        -73.872955        40.773994   \n",
       "10203011                1            0.0        -73.928604        40.787613   \n",
       "\n",
       "          RatecodeID store_and_fwd_flag  dropoff_longitude  dropoff_latitude  \\\n",
       "10199130           1                  N                0.0               0.0   \n",
       "10203011           1                  N                0.0               0.0   \n",
       "\n",
       "          payment_type  fare_amount   extra  mta_tax  tip_amount  \\\n",
       "10199130             2    628544.74  488.24      0.5         0.0   \n",
       "10203011             2    628544.74  488.24      0.5         0.0   \n",
       "\n",
       "          tolls_amount  improvement_surcharge  total_amount  \n",
       "10199130           0.0                    0.3     629033.78  \n",
       "10203011           0.0                    0.3     629033.78  "
      ]
     },
     "execution_count": 25,
     "metadata": {},
     "output_type": "execute_result"
    }
   ],
   "source": [
    "# looking at that huge fare\n",
    "maxf = taxi_gdf['fare_amount'].max()\n",
    "taxi_gdf.query('fare_amount == @maxf')"
   ]
  },
  {
   "cell_type": "code",
   "execution_count": 26,
   "metadata": {},
   "outputs": [
    {
     "name": "stdout",
     "output_type": "stream",
     "text": [
      "Farthest trip was 19,072,628.8 miles\n"
     ]
    }
   ],
   "source": [
    "print(f\"Farthest trip was {taxi_gdf['trip_distance'].max():,} miles\")"
   ]
  },
  {
   "cell_type": "code",
   "execution_count": 27,
   "metadata": {},
   "outputs": [
    {
     "data": {
      "text/html": [
       "<div>\n",
       "<style scoped>\n",
       "    .dataframe tbody tr th:only-of-type {\n",
       "        vertical-align: middle;\n",
       "    }\n",
       "\n",
       "    .dataframe tbody tr th {\n",
       "        vertical-align: top;\n",
       "    }\n",
       "\n",
       "    .dataframe thead th {\n",
       "        text-align: right;\n",
       "    }\n",
       "</style>\n",
       "<table border=\"1\" class=\"dataframe\">\n",
       "  <thead>\n",
       "    <tr style=\"text-align: right;\">\n",
       "      <th></th>\n",
       "      <th>VendorID</th>\n",
       "      <th>tpep_pickup_datetime</th>\n",
       "      <th>tpep_dropoff_datetime</th>\n",
       "      <th>passenger_count</th>\n",
       "      <th>trip_distance</th>\n",
       "      <th>pickup_longitude</th>\n",
       "      <th>pickup_latitude</th>\n",
       "      <th>RatecodeID</th>\n",
       "      <th>store_and_fwd_flag</th>\n",
       "      <th>dropoff_longitude</th>\n",
       "      <th>dropoff_latitude</th>\n",
       "      <th>payment_type</th>\n",
       "      <th>fare_amount</th>\n",
       "      <th>extra</th>\n",
       "      <th>mta_tax</th>\n",
       "      <th>tip_amount</th>\n",
       "      <th>tolls_amount</th>\n",
       "      <th>improvement_surcharge</th>\n",
       "      <th>total_amount</th>\n",
       "    </tr>\n",
       "  </thead>\n",
       "  <tbody>\n",
       "    <tr>\n",
       "      <th>8340109</th>\n",
       "      <td>1</td>\n",
       "      <td>2016-03-07 19:57:50</td>\n",
       "      <td>2016-03-07 20:16:21</td>\n",
       "      <td>1</td>\n",
       "      <td>19072628.8</td>\n",
       "      <td>-73.995796</td>\n",
       "      <td>40.761204</td>\n",
       "      <td>1</td>\n",
       "      <td>Y</td>\n",
       "      <td>-73.995789</td>\n",
       "      <td>40.761208</td>\n",
       "      <td>2</td>\n",
       "      <td>2.5</td>\n",
       "      <td>1.0</td>\n",
       "      <td>0.5</td>\n",
       "      <td>0.0</td>\n",
       "      <td>0.0</td>\n",
       "      <td>0.3</td>\n",
       "      <td>4.3</td>\n",
       "    </tr>\n",
       "  </tbody>\n",
       "</table>\n",
       "</div>"
      ],
      "text/plain": [
       "         VendorID tpep_pickup_datetime tpep_dropoff_datetime  passenger_count  \\\n",
       "8340109         1  2016-03-07 19:57:50   2016-03-07 20:16:21                1   \n",
       "\n",
       "         trip_distance  pickup_longitude  pickup_latitude  RatecodeID  \\\n",
       "8340109     19072628.8        -73.995796        40.761204           1   \n",
       "\n",
       "        store_and_fwd_flag  dropoff_longitude  dropoff_latitude  payment_type  \\\n",
       "8340109                  Y         -73.995789         40.761208             2   \n",
       "\n",
       "         fare_amount  extra  mta_tax  tip_amount  tolls_amount  \\\n",
       "8340109          2.5    1.0      0.5         0.0           0.0   \n",
       "\n",
       "         improvement_surcharge  total_amount  \n",
       "8340109                    0.3           4.3  "
      ]
     },
     "execution_count": 27,
     "metadata": {},
     "output_type": "execute_result"
    }
   ],
   "source": [
    "# How long did it take to drive that distance?\n",
    "maxd= taxi_gdf['trip_distance'].max()\n",
    "taxi_gdf.query('trip_distance == @maxd')"
   ]
  },
  {
   "cell_type": "markdown",
   "metadata": {},
   "source": [
    "### Changing data types"
   ]
  },
  {
   "cell_type": "code",
   "execution_count": 28,
   "metadata": {},
   "outputs": [],
   "source": [
    "# change some data types\n",
    "taxi_gdf = taxi_gdf.astype({'tpep_pickup_datetime':'datetime64[ms]', 'tpep_dropoff_datetime':'datetime64[ms]'})"
   ]
  },
  {
   "cell_type": "code",
   "execution_count": null,
   "metadata": {},
   "outputs": [],
   "source": []
  },
  {
   "cell_type": "markdown",
   "metadata": {},
   "source": [
    "### Filtering data"
   ]
  },
  {
   "cell_type": "code",
   "execution_count": 29,
   "metadata": {},
   "outputs": [],
   "source": [
    "# filter out records with missing or outlier values\n",
    "query_frags = (\"(fare_amount > 0 and fare_amount < 500) \" +\n",
    "        \"and (passenger_count > 0 and passenger_count < 6) \" +\n",
    "        \"and (pickup_longitude > -75 and pickup_longitude < -73) \" +\n",
    "        \"and (dropoff_longitude > -75 and dropoff_longitude < -73) \" +\n",
    "        \"and (pickup_latitude > 40 and pickup_latitude < 42) \" +\n",
    "        \"and (dropoff_latitude > 40 and dropoff_latitude < 42)\" +\n",
    "        \"and (pickup_latitude != dropoff_latitude) \" +\n",
    "        \"and (pickup_longitude != dropoff_longitude)\"\n",
    "    )\n",
    "\n",
    "taxi_gdf = taxi_gdf.query(query_frags)"
   ]
  },
  {
   "cell_type": "markdown",
   "metadata": {},
   "source": [
    "### Add some new features"
   ]
  },
  {
   "cell_type": "code",
   "execution_count": 30,
   "metadata": {},
   "outputs": [],
   "source": [
    "# easier to reference time by YYYY MM DD version a time stamps\n",
    "taxi_gdf['hour']  = taxi_gdf['tpep_pickup_datetime'].dt.hour\n",
    "taxi_gdf['year']  = taxi_gdf['tpep_pickup_datetime'].dt.year\n",
    "taxi_gdf['month'] = taxi_gdf['tpep_pickup_datetime'].dt.month\n",
    "taxi_gdf['day']   = taxi_gdf['tpep_pickup_datetime'].dt.day\n",
    "taxi_gdf['diff']  = taxi_gdf['tpep_dropoff_datetime'].astype('int64') - taxi_gdf['tpep_pickup_datetime'].astype('int64')"
   ]
  },
  {
   "cell_type": "code",
   "execution_count": 31,
   "metadata": {},
   "outputs": [],
   "source": [
    "def day_of_the_week_kernel(day, month, year, day_of_week):\n",
    "    for i, (d_1, m_1, y_1) in enumerate(zip(day, month, year)):\n",
    "        if month[i] < 3:\n",
    "            shift = month[i]\n",
    "        else:\n",
    "            shift = 0\n",
    "        Y = year[i] - (month[i] < 3)\n",
    "        y = Y - 2000\n",
    "        c = 20\n",
    "        d = day[i]\n",
    "        m = month[i] + shift + 1\n",
    "        day_of_week[i] = (d + math.floor(m * 2.6) + y + (y // 4) + (c // 4) - 2 * c) % 7\n",
    "        \n",
    "taxi_gdf = taxi_gdf.apply_rows(\n",
    "        day_of_the_week_kernel\n",
    "        , incols = ['day', 'month', 'year']\n",
    "        , outcols = {'day_of_week': np.int32}\n",
    "        , kwargs = {}\n",
    "    )"
   ]
  },
  {
   "cell_type": "code",
   "execution_count": 32,
   "metadata": {},
   "outputs": [
    {
     "data": {
      "text/html": [
       "<div>\n",
       "<style scoped>\n",
       "    .dataframe tbody tr th:only-of-type {\n",
       "        vertical-align: middle;\n",
       "    }\n",
       "\n",
       "    .dataframe tbody tr th {\n",
       "        vertical-align: top;\n",
       "    }\n",
       "\n",
       "    .dataframe thead th {\n",
       "        text-align: right;\n",
       "    }\n",
       "</style>\n",
       "<table border=\"1\" class=\"dataframe\">\n",
       "  <thead>\n",
       "    <tr style=\"text-align: right;\">\n",
       "      <th></th>\n",
       "      <th>VendorID</th>\n",
       "      <th>tpep_pickup_datetime</th>\n",
       "      <th>tpep_dropoff_datetime</th>\n",
       "      <th>passenger_count</th>\n",
       "      <th>trip_distance</th>\n",
       "      <th>pickup_longitude</th>\n",
       "      <th>pickup_latitude</th>\n",
       "      <th>RatecodeID</th>\n",
       "      <th>store_and_fwd_flag</th>\n",
       "      <th>dropoff_longitude</th>\n",
       "      <th>...</th>\n",
       "      <th>tip_amount</th>\n",
       "      <th>tolls_amount</th>\n",
       "      <th>improvement_surcharge</th>\n",
       "      <th>total_amount</th>\n",
       "      <th>hour</th>\n",
       "      <th>year</th>\n",
       "      <th>month</th>\n",
       "      <th>day</th>\n",
       "      <th>diff</th>\n",
       "      <th>day_of_week</th>\n",
       "    </tr>\n",
       "  </thead>\n",
       "  <tbody>\n",
       "    <tr>\n",
       "      <th>0</th>\n",
       "      <td>2</td>\n",
       "      <td>2016-01-01</td>\n",
       "      <td>2016-01-01</td>\n",
       "      <td>2</td>\n",
       "      <td>1.10</td>\n",
       "      <td>-73.990372</td>\n",
       "      <td>40.734695</td>\n",
       "      <td>1</td>\n",
       "      <td>N</td>\n",
       "      <td>-73.981842</td>\n",
       "      <td>...</td>\n",
       "      <td>0.0</td>\n",
       "      <td>0.0</td>\n",
       "      <td>0.3</td>\n",
       "      <td>8.8</td>\n",
       "      <td>0</td>\n",
       "      <td>2016</td>\n",
       "      <td>1</td>\n",
       "      <td>1</td>\n",
       "      <td>0</td>\n",
       "      <td>5</td>\n",
       "    </tr>\n",
       "    <tr>\n",
       "      <th>1</th>\n",
       "      <td>2</td>\n",
       "      <td>2016-01-01</td>\n",
       "      <td>2016-01-01</td>\n",
       "      <td>5</td>\n",
       "      <td>4.90</td>\n",
       "      <td>-73.980782</td>\n",
       "      <td>40.729912</td>\n",
       "      <td>1</td>\n",
       "      <td>N</td>\n",
       "      <td>-73.944473</td>\n",
       "      <td>...</td>\n",
       "      <td>0.0</td>\n",
       "      <td>0.0</td>\n",
       "      <td>0.3</td>\n",
       "      <td>19.3</td>\n",
       "      <td>0</td>\n",
       "      <td>2016</td>\n",
       "      <td>1</td>\n",
       "      <td>1</td>\n",
       "      <td>0</td>\n",
       "      <td>5</td>\n",
       "    </tr>\n",
       "    <tr>\n",
       "      <th>2</th>\n",
       "      <td>2</td>\n",
       "      <td>2016-01-01</td>\n",
       "      <td>2016-01-01</td>\n",
       "      <td>1</td>\n",
       "      <td>10.54</td>\n",
       "      <td>-73.984550</td>\n",
       "      <td>40.679565</td>\n",
       "      <td>1</td>\n",
       "      <td>N</td>\n",
       "      <td>-73.950272</td>\n",
       "      <td>...</td>\n",
       "      <td>0.0</td>\n",
       "      <td>0.0</td>\n",
       "      <td>0.3</td>\n",
       "      <td>34.3</td>\n",
       "      <td>0</td>\n",
       "      <td>2016</td>\n",
       "      <td>1</td>\n",
       "      <td>1</td>\n",
       "      <td>0</td>\n",
       "      <td>5</td>\n",
       "    </tr>\n",
       "    <tr>\n",
       "      <th>3</th>\n",
       "      <td>2</td>\n",
       "      <td>2016-01-01</td>\n",
       "      <td>2016-01-01</td>\n",
       "      <td>1</td>\n",
       "      <td>4.75</td>\n",
       "      <td>-73.993469</td>\n",
       "      <td>40.718990</td>\n",
       "      <td>1</td>\n",
       "      <td>N</td>\n",
       "      <td>-73.962242</td>\n",
       "      <td>...</td>\n",
       "      <td>0.0</td>\n",
       "      <td>0.0</td>\n",
       "      <td>0.3</td>\n",
       "      <td>17.3</td>\n",
       "      <td>0</td>\n",
       "      <td>2016</td>\n",
       "      <td>1</td>\n",
       "      <td>1</td>\n",
       "      <td>0</td>\n",
       "      <td>5</td>\n",
       "    </tr>\n",
       "    <tr>\n",
       "      <th>4</th>\n",
       "      <td>2</td>\n",
       "      <td>2016-01-01</td>\n",
       "      <td>2016-01-01</td>\n",
       "      <td>3</td>\n",
       "      <td>1.76</td>\n",
       "      <td>-73.960625</td>\n",
       "      <td>40.781330</td>\n",
       "      <td>1</td>\n",
       "      <td>N</td>\n",
       "      <td>-73.977264</td>\n",
       "      <td>...</td>\n",
       "      <td>0.0</td>\n",
       "      <td>0.0</td>\n",
       "      <td>0.3</td>\n",
       "      <td>8.8</td>\n",
       "      <td>0</td>\n",
       "      <td>2016</td>\n",
       "      <td>1</td>\n",
       "      <td>1</td>\n",
       "      <td>0</td>\n",
       "      <td>5</td>\n",
       "    </tr>\n",
       "  </tbody>\n",
       "</table>\n",
       "<p>5 rows × 25 columns</p>\n",
       "</div>"
      ],
      "text/plain": [
       "   VendorID tpep_pickup_datetime tpep_dropoff_datetime  passenger_count  \\\n",
       "0         2           2016-01-01            2016-01-01                2   \n",
       "1         2           2016-01-01            2016-01-01                5   \n",
       "2         2           2016-01-01            2016-01-01                1   \n",
       "3         2           2016-01-01            2016-01-01                1   \n",
       "4         2           2016-01-01            2016-01-01                3   \n",
       "\n",
       "   trip_distance  pickup_longitude  pickup_latitude  RatecodeID  \\\n",
       "0           1.10        -73.990372        40.734695           1   \n",
       "1           4.90        -73.980782        40.729912           1   \n",
       "2          10.54        -73.984550        40.679565           1   \n",
       "3           4.75        -73.993469        40.718990           1   \n",
       "4           1.76        -73.960625        40.781330           1   \n",
       "\n",
       "  store_and_fwd_flag  dropoff_longitude  ...  tip_amount  tolls_amount  \\\n",
       "0                  N         -73.981842  ...         0.0           0.0   \n",
       "1                  N         -73.944473  ...         0.0           0.0   \n",
       "2                  N         -73.950272  ...         0.0           0.0   \n",
       "3                  N         -73.962242  ...         0.0           0.0   \n",
       "4                  N         -73.977264  ...         0.0           0.0   \n",
       "\n",
       "   improvement_surcharge  total_amount  hour  year  month  day  diff  \\\n",
       "0                    0.3           8.8     0  2016      1    1     0   \n",
       "1                    0.3          19.3     0  2016      1    1     0   \n",
       "2                    0.3          34.3     0  2016      1    1     0   \n",
       "3                    0.3          17.3     0  2016      1    1     0   \n",
       "4                    0.3           8.8     0  2016      1    1     0   \n",
       "\n",
       "   day_of_week  \n",
       "0            5  \n",
       "1            5  \n",
       "2            5  \n",
       "3            5  \n",
       "4            5  \n",
       "\n",
       "[5 rows x 25 columns]"
      ]
     },
     "execution_count": 32,
     "metadata": {},
     "output_type": "execute_result"
    }
   ],
   "source": [
    "taxi_gdf.head(5)"
   ]
  },
  {
   "cell_type": "markdown",
   "metadata": {},
   "source": [
    "---"
   ]
  },
  {
   "cell_type": "markdown",
   "metadata": {},
   "source": [
    "## Basic Statistical Data Science\n",
    "\n",
    "### Look at some feature - by Hour"
   ]
  },
  {
   "cell_type": "code",
   "execution_count": 33,
   "metadata": {},
   "outputs": [
    {
     "data": {
      "text/plain": [
       "<Axes: xlabel='hour'>"
      ]
     },
     "execution_count": 33,
     "metadata": {},
     "output_type": "execute_result"
    },
    {
     "data": {
      "image/png": "[encoded data removed]",
      "text/plain": [
       "<Figure size 640x480 with 1 Axes>"
      ]
     },
     "metadata": {},
     "output_type": "display_data"
    }
   ],
   "source": [
    "# 1) Let's look at a plot of fare by hour\n",
    "%matplotlib inline\n",
    "taxi_gdf.groupby('hour').fare_amount.mean().to_pandas().sort_index().plot(legend=True)"
   ]
  },
  {
   "cell_type": "code",
   "execution_count": 34,
   "metadata": {},
   "outputs": [
    {
     "data": {
      "text/plain": [
       "<Axes: xlabel='hour'>"
      ]
     },
     "execution_count": 34,
     "metadata": {},
     "output_type": "execute_result"
    },
    {
     "data": {
      "image/png": "[encoded data removed]",
      "text/plain": [
       "<Figure size 640x480 with 1 Axes>"
      ]
     },
     "metadata": {},
     "output_type": "display_data"
    }
   ],
   "source": [
    "# 2) Tips by hour\n",
    "%matplotlib inline\n",
    "taxi_gdf.groupby('hour').tip_amount.mean().to_pandas().sort_index().plot(legend=True)"
   ]
  },
  {
   "cell_type": "code",
   "execution_count": 35,
   "metadata": {},
   "outputs": [
    {
     "data": {
      "text/plain": [
       "<Axes: >"
      ]
     },
     "execution_count": 35,
     "metadata": {},
     "output_type": "execute_result"
    },
    {
     "data": {
      "image/png": "[encoded data removed]",
      "text/plain": [
       "<Figure size 640x480 with 1 Axes>"
      ]
     },
     "metadata": {},
     "output_type": "display_data"
    }
   ],
   "source": [
    "# 3) Number of taxi rides by Hour\n",
    "%matplotlib inline\n",
    "#taxi_gdf['hour'].groupby('hour').count().to_pandas().sort_index().plot(legend=True)\n",
    "taxi_gdf['hour'].groupby('hour').count().reset_index().to_pandas().plot(legend=True)"
   ]
  },
  {
   "cell_type": "code",
   "execution_count": 36,
   "metadata": {},
   "outputs": [
    {
     "data": {
      "text/plain": [
       "<Axes: xlabel='day_of_week'>"
      ]
     },
     "execution_count": 36,
     "metadata": {},
     "output_type": "execute_result"
    },
    {
     "data": {
      "image/png": "[encoded data removed]",
      "text/plain": [
       "<Figure size 640x480 with 1 Axes>"
      ]
     },
     "metadata": {},
     "output_type": "display_data"
    }
   ],
   "source": [
    "# Look at what days are the busiest\n",
    "%matplotlib inline\n",
    "taxi_gdf.groupby('day_of_week').day_of_week.count().to_pandas().sort_index().plot(legend=True)"
   ]
  },
  {
   "cell_type": "code",
   "execution_count": 37,
   "metadata": {},
   "outputs": [
    {
     "data": {
      "text/plain": [
       "<Axes: xlabel='day_of_week'>"
      ]
     },
     "execution_count": 37,
     "metadata": {},
     "output_type": "execute_result"
    },
    {
     "data": {
      "image/png": "[encoded data removed]",
      "text/plain": [
       "<Figure size 640x480 with 1 Axes>"
      ]
     },
     "metadata": {},
     "output_type": "display_data"
    }
   ],
   "source": [
    "# What days have the best tips\n",
    "%matplotlib inline\n",
    "taxi_gdf.groupby('day_of_week').tip_amount.mean().to_pandas().sort_index().plot(legend=True)"
   ]
  },
  {
   "cell_type": "code",
   "execution_count": null,
   "metadata": {},
   "outputs": [],
   "source": []
  },
  {
   "cell_type": "markdown",
   "metadata": {},
   "source": [
    "# Dropping Columns"
   ]
  },
  {
   "cell_type": "code",
   "execution_count": 38,
   "metadata": {},
   "outputs": [],
   "source": [
    "taxi_gdf = taxi_gdf.drop('store_and_fwd_flag', axis=1)"
   ]
  },
  {
   "cell_type": "code",
   "execution_count": 39,
   "metadata": {},
   "outputs": [
    {
     "data": {
      "text/plain": [
       "VendorID                          int64\n",
       "tpep_pickup_datetime     datetime64[ms]\n",
       "tpep_dropoff_datetime    datetime64[ms]\n",
       "passenger_count                   int64\n",
       "trip_distance                   float64\n",
       "pickup_longitude                float64\n",
       "pickup_latitude                 float64\n",
       "RatecodeID                        int64\n",
       "dropoff_longitude               float64\n",
       "dropoff_latitude                float64\n",
       "payment_type                      int64\n",
       "fare_amount                     float64\n",
       "extra                           float64\n",
       "mta_tax                         float64\n",
       "tip_amount                      float64\n",
       "tolls_amount                    float64\n",
       "improvement_surcharge           float64\n",
       "total_amount                    float64\n",
       "hour                              int16\n",
       "year                              int16\n",
       "month                             int16\n",
       "day                               int16\n",
       "diff                              int64\n",
       "day_of_week                       int32\n",
       "dtype: object"
      ]
     },
     "execution_count": 39,
     "metadata": {},
     "output_type": "execute_result"
    }
   ],
   "source": [
    "taxi_gdf.dtypes"
   ]
  },
  {
   "cell_type": "markdown",
   "metadata": {},
   "source": [
    "---"
   ]
  },
  {
   "cell_type": "markdown",
   "metadata": {},
   "source": [
    "# cuML - Accelerated Machine Learning"
   ]
  },
  {
   "cell_type": "markdown",
   "metadata": {},
   "source": [
    "### In Corey's talk"
   ]
  },
  {
   "cell_type": "markdown",
   "metadata": {},
   "source": [
    "---\n",
    "# cuGraph - Accelerated Graph Analytics\n",
    "\n",
    "We need vertex IDs to be integer values but what we have are lat-long pairs (float64).  There are two way that we can address the issue. The hard way and an easy way"
   ]
  },
  {
   "cell_type": "code",
   "execution_count": 40,
   "metadata": {},
   "outputs": [],
   "source": [
    "import cugraph"
   ]
  },
  {
   "cell_type": "code",
   "execution_count": 41,
   "metadata": {},
   "outputs": [],
   "source": [
    "taxi_subset = taxi_gdf[['pickup_longitude', 'pickup_latitude','dropoff_longitude', 'dropoff_latitude', 'trip_distance']].reset_index()\n",
    "taxi_subset['count'] = 1\n",
    "del taxi_gdf"
   ]
  },
  {
   "cell_type": "markdown",
   "metadata": {},
   "source": [
    "### Create vertices and edges the hard way"
   ]
  },
  {
   "cell_type": "code",
   "execution_count": 42,
   "metadata": {},
   "outputs": [],
   "source": [
    "# create node ID from lat-long combinatiuons\n",
    "nodes = [\n",
    "      taxi_subset[['pickup_longitude', 'pickup_latitude']].drop_duplicates().rename(columns={'pickup_longitude': 'long', 'pickup_latitude': 'lat'})\n",
    "    , taxi_subset[['dropoff_longitude', 'dropoff_latitude']].drop_duplicates().rename(columns={'dropoff_longitude': 'long', 'dropoff_latitude': 'lat'})\n",
    "]"
   ]
  },
  {
   "cell_type": "code",
   "execution_count": 43,
   "metadata": {},
   "outputs": [
    {
     "data": {
      "text/html": [
       "<div>\n",
       "<style scoped>\n",
       "    .dataframe tbody tr th:only-of-type {\n",
       "        vertical-align: middle;\n",
       "    }\n",
       "\n",
       "    .dataframe tbody tr th {\n",
       "        vertical-align: top;\n",
       "    }\n",
       "\n",
       "    .dataframe thead th {\n",
       "        text-align: right;\n",
       "    }\n",
       "</style>\n",
       "<table border=\"1\" class=\"dataframe\">\n",
       "  <thead>\n",
       "    <tr style=\"text-align: right;\">\n",
       "      <th></th>\n",
       "      <th>id</th>\n",
       "      <th>long</th>\n",
       "      <th>lat</th>\n",
       "    </tr>\n",
       "  </thead>\n",
       "  <tbody>\n",
       "    <tr>\n",
       "      <th>0</th>\n",
       "      <td>0</td>\n",
       "      <td>-74.997330</td>\n",
       "      <td>41.879631</td>\n",
       "    </tr>\n",
       "    <tr>\n",
       "      <th>1</th>\n",
       "      <td>1</td>\n",
       "      <td>-74.988434</td>\n",
       "      <td>40.049549</td>\n",
       "    </tr>\n",
       "    <tr>\n",
       "      <th>2</th>\n",
       "      <td>2</td>\n",
       "      <td>-74.979439</td>\n",
       "      <td>41.489216</td>\n",
       "    </tr>\n",
       "    <tr>\n",
       "      <th>3</th>\n",
       "      <td>3</td>\n",
       "      <td>-74.977318</td>\n",
       "      <td>40.319294</td>\n",
       "    </tr>\n",
       "    <tr>\n",
       "      <th>4</th>\n",
       "      <td>4</td>\n",
       "      <td>-74.973709</td>\n",
       "      <td>40.591049</td>\n",
       "    </tr>\n",
       "  </tbody>\n",
       "</table>\n",
       "</div>"
      ],
      "text/plain": [
       "   id       long        lat\n",
       "0   0 -74.997330  41.879631\n",
       "1   1 -74.988434  40.049549\n",
       "2   2 -74.979439  41.489216\n",
       "3   3 -74.977318  40.319294\n",
       "4   4 -74.973709  40.591049"
      ]
     },
     "execution_count": 43,
     "metadata": {},
     "output_type": "execute_result"
    }
   ],
   "source": [
    "nodes = cudf.concat(nodes).drop_duplicates().reset_index(drop=True).reset_index().rename(columns={'index': 'id'})\n",
    "nodes.head(5)"
   ]
  },
  {
   "cell_type": "code",
   "execution_count": 44,
   "metadata": {},
   "outputs": [
    {
     "name": "stdout",
     "output_type": "stream",
     "text": [
      "Total number of geo points in the dataset: 49,805,004\n"
     ]
    }
   ],
   "source": [
    "print('Total number of geo points in the dataset: {0:,}'.format(len(nodes)))"
   ]
  },
  {
   "cell_type": "code",
   "execution_count": 45,
   "metadata": {},
   "outputs": [
    {
     "data": {
      "text/html": [
       "<div>\n",
       "<style scoped>\n",
       "    .dataframe tbody tr th:only-of-type {\n",
       "        vertical-align: middle;\n",
       "    }\n",
       "\n",
       "    .dataframe tbody tr th {\n",
       "        vertical-align: top;\n",
       "    }\n",
       "\n",
       "    .dataframe thead th {\n",
       "        text-align: right;\n",
       "    }\n",
       "</style>\n",
       "<table border=\"1\" class=\"dataframe\">\n",
       "  <thead>\n",
       "    <tr style=\"text-align: right;\">\n",
       "      <th></th>\n",
       "      <th>pickup_id</th>\n",
       "      <th>dropoff_id</th>\n",
       "      <th>trip_distance</th>\n",
       "    </tr>\n",
       "  </thead>\n",
       "  <tbody>\n",
       "    <tr>\n",
       "      <th>0</th>\n",
       "      <td>34273</td>\n",
       "      <td>34554</td>\n",
       "      <td>0.0</td>\n",
       "    </tr>\n",
       "    <tr>\n",
       "      <th>1</th>\n",
       "      <td>34287</td>\n",
       "      <td>33974</td>\n",
       "      <td>0.0</td>\n",
       "    </tr>\n",
       "    <tr>\n",
       "      <th>2</th>\n",
       "      <td>34292</td>\n",
       "      <td>33787</td>\n",
       "      <td>0.0</td>\n",
       "    </tr>\n",
       "    <tr>\n",
       "      <th>3</th>\n",
       "      <td>34365</td>\n",
       "      <td>34647</td>\n",
       "      <td>0.0</td>\n",
       "    </tr>\n",
       "    <tr>\n",
       "      <th>4</th>\n",
       "      <td>34376</td>\n",
       "      <td>34560</td>\n",
       "      <td>0.0</td>\n",
       "    </tr>\n",
       "  </tbody>\n",
       "</table>\n",
       "</div>"
      ],
      "text/plain": [
       "   pickup_id  dropoff_id  trip_distance\n",
       "0      34273       34554            0.0\n",
       "1      34287       33974            0.0\n",
       "2      34292       33787            0.0\n",
       "3      34365       34647            0.0\n",
       "4      34376       34560            0.0"
      ]
     },
     "execution_count": 45,
     "metadata": {},
     "output_type": "execute_result"
    }
   ],
   "source": [
    "edges = (\n",
    "    taxi_subset[['pickup_longitude', 'pickup_latitude','dropoff_longitude', 'dropoff_latitude', 'trip_distance']]\n",
    "    .drop_duplicates()\n",
    "    .rename(columns={'pickup_longitude': 'long', 'pickup_latitude': 'lat'})\n",
    "    .merge(nodes, on=['lat', 'long'])\n",
    "    .rename(columns={'long': 'pickup_longitude', 'lat': 'pickup_latitude', 'id': 'pickup_id', 'dropoff_longitude': 'long', 'dropoff_latitude': 'lat'})\n",
    "    .merge(nodes, on=['lat', 'long'])\n",
    "    .rename(columns={'long': 'dropoff_longitude', 'lat': 'dropoff_latitude', 'id': 'dropoff_id'})\n",
    ")[['pickup_id', 'dropoff_id', 'trip_distance']]\n",
    "\n",
    "edges.head(5)"
   ]
  },
  {
   "cell_type": "code",
   "execution_count": 46,
   "metadata": {},
   "outputs": [
    {
     "data": {
      "text/plain": [
       "65700225"
      ]
     },
     "execution_count": 46,
     "metadata": {},
     "output_type": "execute_result"
    }
   ],
   "source": [
    "len(edges)"
   ]
  },
  {
   "cell_type": "code",
   "execution_count": 47,
   "metadata": {},
   "outputs": [],
   "source": [
    "g = cugraph.Graph()\n",
    "g.from_cudf_edgelist(edges, source='pickup_id', destination='dropoff_id')"
   ]
  },
  {
   "cell_type": "markdown",
   "metadata": {},
   "source": [
    "## Pagerank"
   ]
  },
  {
   "cell_type": "code",
   "execution_count": 48,
   "metadata": {},
   "outputs": [
    {
     "name": "stdout",
     "output_type": "stream",
     "text": [
      "CPU times: user 2.36 s, sys: 395 ms, total: 2.76 s\n",
      "Wall time: 2.75 s\n"
     ]
    },
    {
     "name": "stderr",
     "output_type": "stream",
     "text": [
      "/home/dacosta/dev_0411/cugraph/python/cugraph/cugraph/link_analysis/pagerank.py:200: UserWarning: Pagerank expects the 'store_transposed' flag to be set to 'True' for optimal performance during the graph creation\n",
      "  warnings.warn(warning_msg, UserWarning)\n"
     ]
    }
   ],
   "source": [
    "%%time\n",
    "page = cugraph.pagerank(g, alpha=.85, max_iter=1000, tol=1.0e-05)"
   ]
  },
  {
   "cell_type": "code",
   "execution_count": 49,
   "metadata": {},
   "outputs": [
    {
     "data": {
      "text/html": [
       "<div>\n",
       "<style scoped>\n",
       "    .dataframe tbody tr th:only-of-type {\n",
       "        vertical-align: middle;\n",
       "    }\n",
       "\n",
       "    .dataframe tbody tr th {\n",
       "        vertical-align: top;\n",
       "    }\n",
       "\n",
       "    .dataframe thead th {\n",
       "        text-align: right;\n",
       "    }\n",
       "</style>\n",
       "<table border=\"1\" class=\"dataframe\">\n",
       "  <thead>\n",
       "    <tr style=\"text-align: right;\">\n",
       "      <th></th>\n",
       "      <th>vertex</th>\n",
       "      <th>pagerank</th>\n",
       "    </tr>\n",
       "  </thead>\n",
       "  <tbody>\n",
       "    <tr>\n",
       "      <th>0</th>\n",
       "      <td>48343377</td>\n",
       "      <td>0.000003</td>\n",
       "    </tr>\n",
       "    <tr>\n",
       "      <th>9</th>\n",
       "      <td>49670386</td>\n",
       "      <td>0.000003</td>\n",
       "    </tr>\n",
       "    <tr>\n",
       "      <th>1</th>\n",
       "      <td>48342703</td>\n",
       "      <td>0.000003</td>\n",
       "    </tr>\n",
       "    <tr>\n",
       "      <th>26</th>\n",
       "      <td>49670396</td>\n",
       "      <td>0.000003</td>\n",
       "    </tr>\n",
       "    <tr>\n",
       "      <th>2</th>\n",
       "      <td>48342697</td>\n",
       "      <td>0.000003</td>\n",
       "    </tr>\n",
       "  </tbody>\n",
       "</table>\n",
       "</div>"
      ],
      "text/plain": [
       "      vertex  pagerank\n",
       "0   48343377  0.000003\n",
       "9   49670386  0.000003\n",
       "1   48342703  0.000003\n",
       "26  49670396  0.000003\n",
       "2   48342697  0.000003"
      ]
     },
     "execution_count": 49,
     "metadata": {},
     "output_type": "execute_result"
    }
   ],
   "source": [
    "page.sort_values(by='pagerank', ascending=False).head(5).to_pandas()"
   ]
  },
  {
   "cell_type": "markdown",
   "metadata": {},
   "source": [
    "## Now the easy way"
   ]
  },
  {
   "cell_type": "code",
   "execution_count": 50,
   "metadata": {},
   "outputs": [],
   "source": [
    "g2 = cugraph.Graph()\n",
    "g2.from_cudf_edgelist(taxi_subset, \n",
    "                      source=['pickup_longitude', 'pickup_latitude'], \n",
    "                      destination=['dropoff_longitude', 'dropoff_latitude'], \n",
    "                      edge_attr='count',\n",
    "                      renumber=True)"
   ]
  },
  {
   "cell_type": "code",
   "execution_count": 51,
   "metadata": {},
   "outputs": [
    {
     "name": "stderr",
     "output_type": "stream",
     "text": [
      "/home/dacosta/dev_0411/cugraph/python/cugraph/cugraph/link_analysis/pagerank.py:200: UserWarning: Pagerank expects the 'store_transposed' flag to be set to 'True' for optimal performance during the graph creation\n",
      "  warnings.warn(warning_msg, UserWarning)\n"
     ]
    },
    {
     "data": {
      "text/html": [
       "<div>\n",
       "<style scoped>\n",
       "    .dataframe tbody tr th:only-of-type {\n",
       "        vertical-align: middle;\n",
       "    }\n",
       "\n",
       "    .dataframe tbody tr th {\n",
       "        vertical-align: top;\n",
       "    }\n",
       "\n",
       "    .dataframe thead th {\n",
       "        text-align: right;\n",
       "    }\n",
       "</style>\n",
       "<table border=\"1\" class=\"dataframe\">\n",
       "  <thead>\n",
       "    <tr style=\"text-align: right;\">\n",
       "      <th></th>\n",
       "      <th>pagerank</th>\n",
       "      <th>0_vertex</th>\n",
       "      <th>1_vertex</th>\n",
       "    </tr>\n",
       "  </thead>\n",
       "  <tbody>\n",
       "    <tr>\n",
       "      <th>32208</th>\n",
       "      <td>0.000003</td>\n",
       "      <td>-73.870872</td>\n",
       "      <td>40.773739</td>\n",
       "    </tr>\n",
       "    <tr>\n",
       "      <th>32216</th>\n",
       "      <td>0.000003</td>\n",
       "      <td>-73.776703</td>\n",
       "      <td>40.645370</td>\n",
       "    </tr>\n",
       "    <tr>\n",
       "      <th>32209</th>\n",
       "      <td>0.000003</td>\n",
       "      <td>-73.870888</td>\n",
       "      <td>40.773762</td>\n",
       "    </tr>\n",
       "    <tr>\n",
       "      <th>32266</th>\n",
       "      <td>0.000003</td>\n",
       "      <td>-73.776703</td>\n",
       "      <td>40.645409</td>\n",
       "    </tr>\n",
       "    <tr>\n",
       "      <th>32210</th>\n",
       "      <td>0.000003</td>\n",
       "      <td>-73.870888</td>\n",
       "      <td>40.773739</td>\n",
       "    </tr>\n",
       "  </tbody>\n",
       "</table>\n",
       "</div>"
      ],
      "text/plain": [
       "       pagerank   0_vertex   1_vertex\n",
       "32208  0.000003 -73.870872  40.773739\n",
       "32216  0.000003 -73.776703  40.645370\n",
       "32209  0.000003 -73.870888  40.773762\n",
       "32266  0.000003 -73.776703  40.645409\n",
       "32210  0.000003 -73.870888  40.773739"
      ]
     },
     "execution_count": 51,
     "metadata": {},
     "output_type": "execute_result"
    }
   ],
   "source": [
    "page = cugraph.pagerank(g2, alpha=.85, max_iter=1000, tol=1.0e-05)\n",
    "page.sort_values(by='pagerank', ascending=False).head(5).to_pandas()"
   ]
  },
  {
   "cell_type": "markdown",
   "metadata": {},
   "source": [
    "---"
   ]
  }
 ],
 "metadata": {
  "kernelspec": {
   "display_name": "cugraph_0411",
   "language": "python",
   "name": "python3"
  },
  "language_info": {
   "codemirror_mode": {
    "name": "ipython",
    "version": 3
   },
   "file_extension": ".py",
   "mimetype": "text/x-python",
   "name": "python",
   "nbconvert_exporter": "python",
   "pygments_lexer": "ipython3",
   "version": "3.10.10"
  }
 },
 "nbformat": 4,
 "nbformat_minor": 4
}
